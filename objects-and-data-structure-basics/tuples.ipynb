{
 "cells": [
  {
   "cell_type": "code",
   "execution_count": 2,
   "metadata": {},
   "outputs": [
    {
     "name": "stdout",
     "output_type": "stream",
     "text": [
      "('Apple', 'Microsoft', 'Amazon', 'Tesla')\n",
      "<class 'tuple'>\n"
     ]
    }
   ],
   "source": [
    "'''\n",
    "  Tuples\n",
    "\n",
    "  Tuples are used to store multiple items in a single variable.\n",
    "\n",
    "  A tuple is a collection which is ORDERED and UNCHANGEABLE (IMMUTABLE).\n",
    "\n",
    "  Tuples are written with round brackets.\n",
    "\n",
    "  Tuple items can be of any data type.\n",
    "\n",
    "  A tuple can contain different data types.\n",
    "'''\n",
    "\n",
    "my_tuple = ('Apple', 'Microsoft', 'Amazon', 'Tesla')\n",
    "print(my_tuple)\n",
    "print(type(my_tuple))"
   ]
  },
  {
   "cell_type": "code",
   "execution_count": 3,
   "metadata": {},
   "outputs": [
    {
     "name": "stdout",
     "output_type": "stream",
     "text": [
      "('Apple', 'Microsoft', 'Amazon', 'Tesla', 'Apple', 'Amazon')\n"
     ]
    }
   ],
   "source": [
    "'''\n",
    "  Tuple Items\n",
    "\n",
    "  Tuple items are ordered, unchangeable, and allow duplicate values.\n",
    "  Tuple items are indexed, the first item has index [0], the second item has index [1] etc.\n",
    "\n",
    "  Ordered\n",
    "\n",
    "  When we say that tuples are ordered, it means that the items have a defined order, \n",
    "  and that order will not change.\n",
    "\n",
    "  Unchangeable\n",
    "\n",
    "  We cannot change, add or remove items after the tuple has been created.\n",
    "\n",
    "  Allow Duplicates\n",
    "\n",
    "  Since tuples are indexed, they can have items with the same value.\n",
    "'''\n",
    "\n",
    "my_tuple = ('Apple', 'Microsoft', 'Amazon', 'Tesla', 'Apple', 'Amazon')\n",
    "print(my_tuple)"
   ]
  },
  {
   "cell_type": "code",
   "execution_count": 5,
   "metadata": {},
   "outputs": [
    {
     "name": "stdout",
     "output_type": "stream",
     "text": [
      "4\n"
     ]
    }
   ],
   "source": [
    "'''\n",
    "  Tuple Length\n",
    "\n",
    "  To determine how many items a tuple has, use the len() function.\n",
    "'''\n",
    "\n",
    "my_tuple = ('Apple', 'Microsoft', 'Amazon', 'Tesla')\n",
    "print(len(my_tuple))"
   ]
  },
  {
   "cell_type": "code",
   "execution_count": 6,
   "metadata": {},
   "outputs": [
    {
     "name": "stdout",
     "output_type": "stream",
     "text": [
      "<class 'tuple'>\n",
      "<class 'str'>\n"
     ]
    }
   ],
   "source": [
    "'''\n",
    "  Create Tuple With One Item\n",
    "  To create a tuple with only one item, we have to add a comma after the item, \n",
    "  otherwise Python will not recognize it as a tuple.\n",
    "'''\n",
    "\n",
    "# tuple\n",
    "my_tuple = ('Apple',)\n",
    "print(type(my_tuple))\n",
    "\n",
    "# NOT a tuple\n",
    "my_tuple = ('Apple')\n",
    "print(type(my_tuple))"
   ]
  },
  {
   "cell_type": "code",
   "execution_count": 7,
   "metadata": {},
   "outputs": [
    {
     "name": "stdout",
     "output_type": "stream",
     "text": [
      "('Apple', 'Microsoft', 'Amazon')\n"
     ]
    }
   ],
   "source": [
    "'''\n",
    "  The tuple() Constructor\n",
    "  It is also possible to use the tuple() constructor to make a tuple.\n",
    "'''\n",
    "\n",
    "my_tuple = tuple((\"Apple\", \"Microsoft\", \"Amazon\")) # note the double round-brackets\n",
    "print(my_tuple)"
   ]
  },
  {
   "cell_type": "code",
   "execution_count": null,
   "metadata": {},
   "outputs": [],
   "source": [
    "'''\n",
    "  Access Tuple Items\n",
    "\n",
    "  Access the tuple items by referring to the index number, inside square brackets.\n",
    "  The first item has index 0.\n",
    "'''\n",
    "\n",
    "my_tuple = ('Apple', 'Microsoft', 'Amazon', 'Tesla')\n",
    "print(my_tuple[0])"
   ]
  },
  {
   "cell_type": "code",
   "execution_count": 8,
   "metadata": {},
   "outputs": [
    {
     "name": "stdout",
     "output_type": "stream",
     "text": [
      "Tesla\n"
     ]
    }
   ],
   "source": [
    "'''\n",
    "  Negative Indexing\n",
    "  Negative indexing means start from the end.\n",
    "\n",
    "  -1 refers to the last item, -2 refers to the second last item etc.\n",
    "'''\n",
    "\n",
    "my_tuple = ('Apple', 'Microsoft', 'Amazon', 'Tesla')\n",
    "print(my_tuple[-1])"
   ]
  },
  {
   "cell_type": "code",
   "execution_count": 11,
   "metadata": {},
   "outputs": [
    {
     "name": "stdout",
     "output_type": "stream",
     "text": [
      "('Amazon', 'Tesla', 'Apple')\n",
      "('Apple', 'Microsoft', 'Amazon', 'Tesla', 'Apple')\n",
      "('Amazon', 'Tesla', 'Apple', 'Amazon')\n"
     ]
    }
   ],
   "source": [
    "'''\n",
    "  Range of Indexes\n",
    "\n",
    "  We can specify a range of indexes by specifying where to start and where to end the range.\n",
    "\n",
    "  When specifying a range, the return value will be a new tuple with the specified items.\n",
    "\n",
    "  The search will start at index 2 (included) and end at index 5 (not included).\n",
    "'''\n",
    "\n",
    "my_tuple = ('Apple', 'Microsoft', 'Amazon', 'Tesla', 'Apple', 'Amazon')\n",
    "print(my_tuple[2:5])\n",
    "\n",
    "# By leaving out the start value, the range will start at the first item\n",
    "\n",
    "print(my_tuple[:5])\n",
    "\n",
    "# By leaving out the end value, the range will go on to the end of the list\n",
    "\n",
    "print(my_tuple[2:])"
   ]
  },
  {
   "cell_type": "code",
   "execution_count": 12,
   "metadata": {},
   "outputs": [
    {
     "name": "stdout",
     "output_type": "stream",
     "text": [
      "Apple is in my_tuple\n"
     ]
    }
   ],
   "source": [
    "'''\n",
    "  Check if Item Exists\n",
    "\n",
    "  To determine if a specified item is present in a tuple use the in keyword.\n",
    "'''\n",
    "\n",
    "my_tuple = ('Apple', 'Microsoft', 'Amazon', 'Tesla', 'Apple', 'Amazon')\n",
    "\n",
    "if 'Apple' in my_tuple:\n",
    "  print('Apple is in my_tuple')"
   ]
  },
  {
   "cell_type": "code",
   "execution_count": 3,
   "metadata": {},
   "outputs": [
    {
     "name": "stdout",
     "output_type": "stream",
     "text": [
      "('Apple', 'Tesla', 'Amazon')\n"
     ]
    }
   ],
   "source": [
    "'''\n",
    "  Change Tuple Values\n",
    "\n",
    "  Once a tuple is created, we cannot change its values.\n",
    "  Tuples are unchangeable, or immutable as it also is called.\n",
    "\n",
    "  But there is a workaround. We can convert the tuple into a list, change the list,\n",
    "  and convert the list back into a tuple.\n",
    "\n",
    "  We can also add or remove elements from tuple in this way.\n",
    "\n",
    "  We can delete the tuple completely with the del keyword\n",
    "'''\n",
    "\n",
    "my_tuple = ('Apple', 'Microsoft', 'Amazon')\n",
    "my_list = list(my_tuple)\n",
    "my_list[1] = 'Tesla'\n",
    "my_tuple = tuple(my_list)\n",
    "\n",
    "print(my_tuple)\n",
    "\n",
    "del my_tuple\n",
    "\n",
    "# print(my_tuple) # This will raise an error because the tuple no longer exists"
   ]
  },
  {
   "cell_type": "code",
   "execution_count": 6,
   "metadata": {},
   "outputs": [
    {
     "name": "stdout",
     "output_type": "stream",
     "text": [
      "Apple Microsoft Amazon\n",
      "Apple ['Microsoft', 'Amazon']\n",
      "Apple ['Microsoft'] Amazon\n"
     ]
    }
   ],
   "source": [
    "'''\n",
    "  Unpacking a Tuple\n",
    "\n",
    "  When we create a tuple, we normally assign values to it. This is called \"packing\" a tuple.\n",
    "  We are also allowed to extract the values back into variables. This is called \"unpacking\"\n",
    "'''\n",
    "\n",
    "my_tuple = ('Apple', 'Microsoft', 'Amazon')\n",
    "(apple, ms, amazon) = my_tuple\n",
    "\n",
    "print (apple, ms, amazon)\n",
    "\n",
    "'''\n",
    "  The number of variables must match the number of values in the tuple, if not, \n",
    "  we must use an asterisk to collect the remaining values as a list.\n",
    "'''\n",
    "\n",
    "(apple, *others) = my_tuple\n",
    "\n",
    "print(apple, others)\n",
    "\n",
    "'''\n",
    "  If the asterisk is added to another variable name than the last, \n",
    "  Python will assign values to the variable until the number of values \n",
    "  left matches the number of variables left.\n",
    "'''\n",
    "\n",
    "(apple, *others, amazon) = my_tuple\n",
    "print (apple, others, amazon)"
   ]
  },
  {
   "cell_type": "code",
   "execution_count": 9,
   "metadata": {},
   "outputs": [
    {
     "name": "stdout",
     "output_type": "stream",
     "text": [
      "Apple\n",
      "Microsoft\n",
      "Amazon\n",
      "Apple\n",
      "Microsoft\n",
      "Amazon\n"
     ]
    }
   ],
   "source": [
    "'''\n",
    "  Loop Through a Tuple\n",
    "  \n",
    "  Iterate through the items and print the values.\n",
    "'''\n",
    "my_tuple = ('Apple', 'Microsoft', 'Amazon')\n",
    "for company in my_tuple:\n",
    "  print(company)\n",
    "\n",
    "'''\n",
    "  We can also loop through the tuple items by referring to their index number.\n",
    "\n",
    "  Use the range() and len() functions to create a suitable iterable.\n",
    "'''\n",
    "\n",
    "for i in range(len(my_tuple)):\n",
    "  print(my_tuple[i])"
   ]
  },
  {
   "cell_type": "code",
   "execution_count": 11,
   "metadata": {},
   "outputs": [
    {
     "name": "stdout",
     "output_type": "stream",
     "text": [
      "('Apple', 'SpaceX')\n"
     ]
    }
   ],
   "source": [
    "'''\n",
    "  Join Two Tuples\n",
    "\n",
    "  To join two or more tuples you can use the + operator.\n",
    "'''\n",
    "my_tuple_1 = ('Apple',)\n",
    "my_tuple_2 = ('SpaceX',)\n",
    "\n",
    "joined_tuple = my_tuple_1 + my_tuple_2\n",
    "\n",
    "print(joined_tuple)"
   ]
  },
  {
   "cell_type": "code",
   "execution_count": 13,
   "metadata": {},
   "outputs": [
    {
     "name": "stdout",
     "output_type": "stream",
     "text": [
      "('Apple', 'Apple', 'Apple', 'Apple')\n"
     ]
    }
   ],
   "source": [
    "'''\n",
    "  Multiply Tuples\n",
    "  If we want to multiply the content of a tuple a given number of times, we can use the * operator.\n",
    "'''\n",
    "\n",
    "my_tuple = ('Apple',)\n",
    "multiplied_tuple = my_tuple * 4\n",
    "\n",
    "print(multiplied_tuple)"
   ]
  },
  {
   "cell_type": "code",
   "execution_count": null,
   "metadata": {},
   "outputs": [],
   "source": []
  }
 ],
 "metadata": {
  "kernelspec": {
   "display_name": "Python 3.9.6 64-bit",
   "language": "python",
   "name": "python3"
  },
  "language_info": {
   "codemirror_mode": {
    "name": "ipython",
    "version": 3
   },
   "file_extension": ".py",
   "mimetype": "text/x-python",
   "name": "python",
   "nbconvert_exporter": "python",
   "pygments_lexer": "ipython3",
   "version": "3.9.6"
  },
  "orig_nbformat": 4,
  "vscode": {
   "interpreter": {
    "hash": "31f2aee4e71d21fbe5cf8b01ff0e069b9275f58929596ceb00d14d90e3e16cd6"
   }
  }
 },
 "nbformat": 4,
 "nbformat_minor": 2
}
