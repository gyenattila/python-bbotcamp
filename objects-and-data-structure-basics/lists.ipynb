{
 "cells": [
  {
   "cell_type": "code",
   "execution_count": 3,
   "metadata": {},
   "outputs": [
    {
     "name": "stdout",
     "output_type": "stream",
     "text": [
      "[1, 2, 3]\n",
      "['STRING', 100.23, 1]\n",
      "3\n",
      "one\n",
      "['two', 'three']\n",
      "['one', 'two', 'three', 'four', 'five']\n",
      "['ALL CAPS', 'two', 'three', 'four', 'five']\n",
      "six\n",
      "[1, 3, 4, 8]\n",
      "[8, 4, 3, 1]\n"
     ]
    }
   ],
   "source": [
    "'''\n",
    "  List\n",
    "\n",
    "  Lists are ORDERED sequences that can hold a variety of object types.\n",
    "  Lists are used to store multiple items in a single variable.\n",
    "  They use [] brackets and commas to separate objects in the list. [1,2,3,4,5]\n",
    "  Lists support indexing and slicing. Can be nested and also have a variety of useful methods \n",
    "  that can be called off of them.\n",
    "'''\n",
    "\n",
    "my_list = [1,2,3]\n",
    "\n",
    "print (my_list)\n",
    "\n",
    "my_list = ['STRING', 100.23, 1]\n",
    "\n",
    "print(my_list)\n",
    "\n",
    "print(len(my_list))\n",
    "\n",
    "my_list = ['one', 'two', 'three']\n",
    "\n",
    "print(my_list[0])   # returns the first element of the list\n",
    "\n",
    "print(my_list[1:])  # returns every element from the list  starting with index one\n",
    "\n",
    "my_list_2 = ['four', 'five']\n",
    "\n",
    "print(my_list + my_list_2)  # concat two list together, the original lists are not mutated\n",
    "\n",
    "new_list = my_list + my_list_2\n",
    "\n",
    "new_list[0] = 'ALL CAPS'\n",
    "\n",
    "print(new_list)\n",
    "\n",
    "new_list.append('six')    # add new item at the end of the list, affecting the list in place\n",
    "\n",
    "print(new_list.pop())    # pops out the last element from the list, also returns it\n",
    "\n",
    "new_list.pop(0)   # pops out element which is located at index 0\n",
    "\n",
    "char_list = ['a', 'e', 'x', 'b', 'c']\n",
    "num_list = [4,1,8,3]\n",
    "\n",
    "num_list.sort()   # sorts the num_list in place, does not returns anything\n",
    "\n",
    "print(num_list)\n",
    "\n",
    "num_list.reverse()    # reverses the list in place, does not returns anything\n",
    "\n",
    "print(num_list)"
   ]
  },
  {
   "cell_type": "code",
   "execution_count": null,
   "metadata": {},
   "outputs": [],
   "source": []
  }
 ],
 "metadata": {
  "kernelspec": {
   "display_name": "Python 3.9.6 64-bit",
   "language": "python",
   "name": "python3"
  },
  "language_info": {
   "codemirror_mode": {
    "name": "ipython",
    "version": 3
   },
   "file_extension": ".py",
   "mimetype": "text/x-python",
   "name": "python",
   "nbconvert_exporter": "python",
   "pygments_lexer": "ipython3",
   "version": "3.9.6"
  },
  "orig_nbformat": 4,
  "vscode": {
   "interpreter": {
    "hash": "31f2aee4e71d21fbe5cf8b01ff0e069b9275f58929596ceb00d14d90e3e16cd6"
   }
  }
 },
 "nbformat": 4,
 "nbformat_minor": 2
}
