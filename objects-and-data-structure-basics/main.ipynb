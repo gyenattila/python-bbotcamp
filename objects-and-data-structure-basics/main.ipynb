{
 "cells": [
  {
   "cell_type": "code",
   "execution_count": 1,
   "metadata": {},
   "outputs": [
    {
     "data": {
      "text/plain": [
       "'\\n  Python Objects and Data Structures\\n\\n  Integers        int     Whole numbers\\n  Floating point  float   Numbers with decimal point\\n  Strings         str     Sequence of characters\\n  Lists           list    Ordered sequence of objects\\n  Dictionaries    dict    Unordered Key:Value pairs\\n  Tuples          tup     Ordered immutable sequence of objects\\n  Sets            set     Unordered collection of unique objects\\n  Booleans        bool    Logical value indicating True or false\\n'"
      ]
     },
     "execution_count": 1,
     "metadata": {},
     "output_type": "execute_result"
    }
   ],
   "source": [
    "'''\n",
    "  Python Objects and Data Structures\n",
    "\n",
    "  Integers        int     Whole numbers\n",
    "  Floating point  float   Numbers with decimal point\n",
    "  Strings         str     Sequence of characters\n",
    "  Lists           list    Ordered sequence of objects\n",
    "  Dictionaries    dict    Unordered Key:Value pairs\n",
    "  Tuples          tup     Ordered immutable sequence of objects\n",
    "  Sets            set     Unordered collection of unique objects\n",
    "  Booleans        bool    Logical value indicating True or false\n",
    "'''"
   ]
  },
  {
   "cell_type": "code",
   "execution_count": 3,
   "metadata": {},
   "outputs": [
    {
     "name": "stdout",
     "output_type": "stream",
     "text": [
      "3\n",
      "-1\n",
      "2\n",
      "0.5\n",
      "1\n",
      "1\n",
      "0\n"
     ]
    }
   ],
   "source": [
    "'''Numbers'''\n",
    "\n",
    "print(1 + 2) # Addition\n",
    "print(1 - 2) # Subtraction\n",
    "print(1 * 2) # Multiplication\n",
    "print(1 / 2) # Division\n",
    "print(1 % 2) # Modulus\n",
    "print(1 ** 2) # Exponential\n",
    "print(1 // 2) # Floor division"
   ]
  },
  {
   "cell_type": "code",
   "execution_count": 8,
   "metadata": {},
   "outputs": [
    {
     "name": "stdout",
     "output_type": "stream",
     "text": [
      "5\n",
      "10\n",
      "<class 'int'>\n",
      "<class 'float'>\n"
     ]
    }
   ],
   "source": [
    "'''\n",
    "  Variables Assignment\n",
    "\n",
    "  There can be no spaces in the name, use _ instead\n",
    "  Names can not start with number\n",
    "  Can't use special symbol in variable name, like :'\",<>/?|\\()!@#$%^&*~-+\n",
    "  Python uses snake_case convention for naming variables: my_variable_name\n",
    "\n",
    "  Assignment operators\n",
    "  =, +=, -=, *=, /=, %=, //=, **=, &=, |=, ^=, >>=, <<=\n",
    "\n",
    "  Python does not support ++ and -- operators. Nor in prefix neither in postfix format.\n",
    "'''\n",
    "\n",
    "a = 5\n",
    "print(a)\n",
    "a = a + a # shorthand -> a += a\n",
    "print(a)\n",
    "\n",
    "print(type(a)) # int\n",
    "\n",
    "a = 5.1\n",
    "\n",
    "print(type(a)) # float\n",
    "\n"
   ]
  },
  {
   "cell_type": "code",
   "execution_count": 17,
   "metadata": {},
   "outputs": [
    {
     "name": "stdout",
     "output_type": "stream",
     "text": [
      "Hello\n",
      "Hello\n",
      "I'm going on run\n",
      "5\n",
      "H\n",
      "d\n",
      "llo w\n",
      "llo world\n",
      "Hel\n",
      "Hlow\n",
      "dlrow olleH\n"
     ]
    }
   ],
   "source": [
    "'''\n",
    "  String\n",
    "\n",
    "  Order sequence of characters, using the syntax of either single quotes or double quotes.\n",
    "  Indexing is enabled with the [] operator to grab a single character from a string (index starts from 0).\n",
    "  Reverse indexing also enabled. [-1] return the last character of the string.\n",
    "  Slicing allows to grab a subsection of a multiple characters. [start:stop:step]\n",
    "'''\n",
    "\n",
    "print('Hello')\n",
    "print(\"Hello\")\n",
    "\n",
    "print(\"I'm going on run\") # Single quotes can be used between double quotes and vice-versa\n",
    "\n",
    "print(len('Hello')) # Return the length of the string\n",
    "\n",
    "my_string = 'Hello world'\n",
    "\n",
    "print(my_string[0])       # Returns first character of the string\n",
    "print(my_string[-1])      # Returns last character of the string\n",
    "print(my_string[2:7])     # Returns characters start from index 2 ends at index 7.\n",
    "                          # Start index is included BUT stop index is NOT included.\n",
    "print(my_string[2:])      # Returns everything from index 2 at the end of the string.\n",
    "print(my_string[:3])      # Returns everything from the first character until the 3rd index.\n",
    "                          # The 3rd index is NOT included\n",
    "print(my_string[0:8: 2])  # Returns every 2nd character between the given range.\n",
    "print(my_string[::-1])    # Reverses the string."
   ]
  },
  {
   "cell_type": "code",
   "execution_count": 23,
   "metadata": {},
   "outputs": [
    {
     "name": "stdout",
     "output_type": "stream",
     "text": [
      "Pam\n",
      "zzzzzzzzzz\n",
      "Z\n",
      "['Hello', 'World']\n"
     ]
    }
   ],
   "source": [
    "'''\n",
    "  String properties and Methods\n",
    "\n",
    "  String are immutable\n",
    "'''\n",
    "\n",
    "name = 'Sam'\n",
    "# name[0] = 'P' # TypeError: 'str' object does not support item assignment\n",
    "print('P' + name[1:])   # string concatenation\n",
    "\n",
    "letter = 'z'\n",
    "print(letter * 10)\n",
    "\n",
    "print(letter.upper())   # type the string variable and hit '.' it will grab all the methods\n",
    "                        # that can be performed on a string.\n",
    "greet = 'Hello World'\n",
    "print(greet.split(' ')) # splits the string at ' ' (whitespace)\n"
   ]
  },
  {
   "cell_type": "code",
   "execution_count": 4,
   "metadata": {},
   "outputs": [
    {
     "name": "stdout",
     "output_type": "stream",
     "text": [
      "This is a string INSERTED\n",
      "The quick red fox\n",
      "The quick red fox\n",
      "The quick red fox\n"
     ]
    }
   ],
   "source": [
    "'''\n",
    "  String formatting\n",
    "\n",
    "  .format()\n",
    "  f-strings\n",
    "'''\n",
    "\n",
    "# .format()\n",
    "print('This is a string {}'.format('INSERTED'))\n",
    "\n",
    "print('The {2} {1} {0}'.format('fox', 'red', 'quick'))\n",
    "\n",
    "print('The {q} {r} {f}'.format(f='fox', r='red', q='quick'))\n",
    "\n",
    "# f-strings\n",
    "fox = 'fox'\n",
    "red = 'red'\n",
    "quick = 'quick'\n",
    "print(f'The {quick} {red} {fox}')"
   ]
  },
  {
   "cell_type": "code",
   "execution_count": null,
   "metadata": {},
   "outputs": [],
   "source": []
  }
 ],
 "metadata": {
  "kernelspec": {
   "display_name": "Python 3.10.6 ('python-bootcamp')",
   "language": "python",
   "name": "python3"
  },
  "language_info": {
   "codemirror_mode": {
    "name": "ipython",
    "version": 3
   },
   "file_extension": ".py",
   "mimetype": "text/x-python",
   "name": "python",
   "nbconvert_exporter": "python",
   "pygments_lexer": "ipython3",
   "version": "3.10.6"
  },
  "orig_nbformat": 4,
  "vscode": {
   "interpreter": {
    "hash": "84fb6d8aaeb158c58de27a1250fa14bc7654e946f3622706fdd17c8e3f06a8ea"
   }
  }
 },
 "nbformat": 4,
 "nbformat_minor": 2
}
